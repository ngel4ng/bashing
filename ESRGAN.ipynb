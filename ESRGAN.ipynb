{
  "nbformat": 4,
  "nbformat_minor": 0,
  "metadata": {
    "colab": {
      "name": "ESRGAN.ipynb",
      "provenance": []
    },
    "kernelspec": {
      "name": "python3",
      "display_name": "Python 3"
    },
    "language_info": {
      "name": "python"
    },
    "accelerator": "GPU",
    "gpuClass": "standard"
  },
  "cells": [
    {
      "cell_type": "code",
      "source": [
        "!nvidia-smi"
      ],
      "metadata": {
        "id": "XteabHF8wtbv"
      },
      "execution_count": null,
      "outputs": []
    },
    {
      "cell_type": "code",
      "execution_count": null,
      "metadata": {
        "id": "MFMSrWMgwWXn"
      },
      "outputs": [],
      "source": [
        "!pip install colabcode"
      ]
    },
    {
      "cell_type": "code",
      "source": [
        "!wget https://bin.equinox.io/c/4VmDzA7iaHb/ngrok-stable-linux-amd64.zip\n",
        "!unzip -o ngrok-stable-linux-amd64.zip"
      ],
      "metadata": {
        "id": "DsLAzvGjwXdo"
      },
      "execution_count": null,
      "outputs": []
    },
    {
      "cell_type": "markdown",
      "source": [
        "**Step to run Colabcode**\n",
        "1. Visit https://dashboard.ngrok.com/login  and create your account, as ngrok do mandatory to create account and use authtoken individually."
      ],
      "metadata": {
        "id": "hjW6yN__wf-o"
      }
    },
    {
      "cell_type": "code",
      "source": [
        "!./ngrok authtoken <your authentication token>"
      ],
      "metadata": {
        "id": "7a0jTrDTwkVv"
      },
      "execution_count": null,
      "outputs": []
    },
    {
      "cell_type": "code",
      "source": [
        "# import colabcode\n",
        "from colabcode import ColabCode\n",
        "\n",
        "# run colabcode with by deafult options.\n",
        "ColabCode()\n",
        "\n",
        "ColabCode(port=10000, password=\"   \")"
      ],
      "metadata": {
        "id": "G_wfDVrewlhz"
      },
      "execution_count": null,
      "outputs": []
    }
  ]
}